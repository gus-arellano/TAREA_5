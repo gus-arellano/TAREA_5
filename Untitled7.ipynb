{
  "nbformat": 4,
  "nbformat_minor": 0,
  "metadata": {
    "colab": {
      "provenance": [],
      "authorship_tag": "ABX9TyMPoHTAyFT76H3ZhUSwJ7DC",
      "include_colab_link": true
    },
    "kernelspec": {
      "name": "python3",
      "display_name": "Python 3"
    },
    "language_info": {
      "name": "python"
    }
  },
  "cells": [
    {
      "cell_type": "markdown",
      "metadata": {
        "id": "view-in-github",
        "colab_type": "text"
      },
      "source": [
        "<a href=\"https://colab.research.google.com/github/gus-arellano/TAREA_5/blob/main/Untitled7.ipynb\" target=\"_parent\"><img src=\"https://colab.research.google.com/assets/colab-badge.svg\" alt=\"Open In Colab\"/></a>"
      ]
    },
    {
      "cell_type": "code",
      "execution_count": 10,
      "metadata": {
        "id": "-UQCFSdumsad",
        "colab": {
          "base_uri": "https://localhost:8080/"
        },
        "outputId": "a35b3c52-ff63-4764-9d34-715382967779"
      },
      "outputs": [
        {
          "output_type": "stream",
          "name": "stdout",
          "text": [
            "Ingresa un número: 5\n",
            "Ingresa un número: 5\n",
            "Ingresa un número: 5\n",
            "Ingresa un número: 5\n",
            "Ingresa un número: 5\n",
            "El promedio de los números en la lista es: 5.0\n"
          ]
        }
      ],
      "source": [
        "#EJERCICIO 1\n",
        "numeros = [10, 20, 30, 40, 50]\n",
        "for i in range(5):\n",
        "    numero_ingresado = float(input(\"Ingresa un número: \"))\n",
        "    numeros.append(numero_ingresado)\n",
        "promedio = sum(numeros) / len(numeros)\n",
        "print(f\"El promedio de los números en la lista es: {promedio}\")\n"
      ]
    },
    {
      "cell_type": "code",
      "source": [
        "numeros = [10, 5, 30, 15, 25]\n",
        "maximo = max(numeros)\n",
        "minimo = min(numeros)\n",
        "print(f\"El valor máximo en la lista es: {maximo}\")\n",
        "print(f\"El valor mínimo en la lista es: {minimo}\")\n"
      ],
      "metadata": {
        "colab": {
          "base_uri": "https://localhost:8080/"
        },
        "id": "T4Xlupp6r140",
        "outputId": "ecada4d2-5773-4efc-e5c2-51db8142f7ae"
      },
      "execution_count": 11,
      "outputs": [
        {
          "output_type": "stream",
          "name": "stdout",
          "text": [
            "El valor máximo en la lista es: 30\n",
            "El valor mínimo en la lista es: 5\n"
          ]
        }
      ]
    },
    {
      "cell_type": "code",
      "source": [
        "numeros = [10, 5, 30, 15, 25, 8, 12]\n",
        "pares = []\n",
        "impares = []\n",
        "for numero in numeros:\n",
        "    if numero % 2 == 0:\n",
        "        pares.append(numero)\n",
        "    else:\n",
        "        impares.append(numero)\n",
        "print(\"Números pares:\", pares)\n",
        "print(\"Números impares:\", impares)\n"
      ],
      "metadata": {
        "colab": {
          "base_uri": "https://localhost:8080/"
        },
        "id": "d1i1xU-3sBHq",
        "outputId": "cea50136-6882-4817-d2b1-8d57f658c3db"
      },
      "execution_count": 12,
      "outputs": [
        {
          "output_type": "stream",
          "name": "stdout",
          "text": [
            "Números pares: [10, 30, 8, 12]\n",
            "Números impares: [5, 15, 25]\n"
          ]
        }
      ]
    }
  ]
}